{
  "nbformat": 4,
  "nbformat_minor": 0,
  "metadata": {
    "accelerator": "GPU",
    "colab": {
      "name": "nlp_BERT.ipynb",
      "provenance": [],
      "include_colab_link": true
    },
    "kernelspec": {
      "display_name": "Python 3",
      "name": "python3"
    },
    "language_info": {
      "name": "python"
    }
  },
  "cells": [
    {
      "cell_type": "markdown",
      "metadata": {
        "id": "view-in-github",
        "colab_type": "text"
      },
      "source": [
        "<a href=\"https://colab.research.google.com/github/Huang-23/PRfinal_BERT/blob/main/nlp_BERT.ipynb\" target=\"_parent\"><img src=\"https://colab.research.google.com/assets/colab-badge.svg\" alt=\"Open In Colab\"/></a>"
      ]
    },
    {
      "cell_type": "code",
      "metadata": {
        "colab": {
          "base_uri": "https://localhost:8080/"
        },
        "id": "9toZvBLFkR8A",
        "outputId": "e06f1075-85f0-47e4-d87b-17d9718a7619"
      },
      "source": [
        "from google.colab import drive\n",
        "drive.mount('/content/drive')"
      ],
      "execution_count": 18,
      "outputs": [
        {
          "output_type": "stream",
          "name": "stdout",
          "text": [
            "Drive already mounted at /content/drive; to attempt to forcibly remount, call drive.mount(\"/content/drive\", force_remount=True).\n"
          ]
        }
      ]
    },
    {
      "cell_type": "markdown",
      "metadata": {
        "id": "_oHAg8VaGEbr"
      },
      "source": [
        "# 準備原始文本數據"
      ]
    },
    {
      "cell_type": "code",
      "metadata": {
        "colab": {
          "base_uri": "https://localhost:8080/"
        },
        "id": "MbuZjp9fVU_J",
        "outputId": "8db61f97-4bc0-4d61-a269-00437edd5b6c"
      },
      "source": [
        "import os\n",
        "import pandas as pd\n",
        "\n",
        "\n",
        "df_train = pd.read_csv(\"/content/drive/MyDrive/nlp/nlp_BERT/train.csv\")\n",
        "\n",
        "df_train.head()\n",
        "empty_title = ((df_train['title1_zh'].isnull())|df_train['title2_zh'].isnull())\n",
        "df_train = df_train[~empty_title]\n",
        "\n",
        "MAX_LENGTH = 30\n",
        "df_train = df_train[~(df_train.title1_zh.apply(lambda x: len(x)) > MAX_LENGTH)]\n",
        "df_train = df_train[~(df_train.title2_zh.apply(lambda x: len(x)) > MAX_LENGTH)]\n",
        "\n",
        "len(df_train)"
      ],
      "execution_count": 19,
      "outputs": [
        {
          "output_type": "execute_result",
          "data": {
            "text/plain": [
              "265695"
            ]
          },
          "metadata": {},
          "execution_count": 19
        }
      ]
    },
    {
      "cell_type": "code",
      "metadata": {
        "colab": {
          "base_uri": "https://localhost:8080/",
          "height": 616
        },
        "id": "yMeLumwNkpWr",
        "outputId": "7f562b2e-aee1-49db-caee-f159632e29ee"
      },
      "source": [
        "# 從32萬筆訓練數據裡隨機抽取？%訓練\n",
        "SAMPLE_FRAC = 0.03\n",
        "df_train = df_train.sample(frac=SAMPLE_FRAC, random_state=927)\n",
        "# 去除不必要的欄位並重新命名兩標題的欄位名\n",
        "df_train = df_train.reset_index()\n",
        "df_train = df_train.loc[:, ['title1_zh', 'title2_zh', 'label']]\n",
        "df_train.columns = ['text_a', 'text_b', 'label']\n",
        "df_train"
      ],
      "execution_count": 20,
      "outputs": [
        {
          "output_type": "execute_result",
          "data": {
            "text/html": [
              "\n",
              "  <div id=\"df-26840c89-131f-47cf-aad2-35725fdeafe0\">\n",
              "    <div class=\"colab-df-container\">\n",
              "      <div>\n",
              "<style scoped>\n",
              "    .dataframe tbody tr th:only-of-type {\n",
              "        vertical-align: middle;\n",
              "    }\n",
              "\n",
              "    .dataframe tbody tr th {\n",
              "        vertical-align: top;\n",
              "    }\n",
              "\n",
              "    .dataframe thead th {\n",
              "        text-align: right;\n",
              "    }\n",
              "</style>\n",
              "<table border=\"1\" class=\"dataframe\">\n",
              "  <thead>\n",
              "    <tr style=\"text-align: right;\">\n",
              "      <th></th>\n",
              "      <th>text_a</th>\n",
              "      <th>text_b</th>\n",
              "      <th>label</th>\n",
              "    </tr>\n",
              "  </thead>\n",
              "  <tbody>\n",
              "    <tr>\n",
              "      <th>0</th>\n",
              "      <td>免费分享生活小技巧 教你用手机免费观看全网VIP视频</td>\n",
              "      <td>打开微信直接观看高清免费电视直播，不仅流畅，还不占内存</td>\n",
              "      <td>agreed</td>\n",
              "    </tr>\n",
              "    <tr>\n",
              "      <th>1</th>\n",
              "      <td>农村的这种树枝可以抑制白发生长，再也不用染发，和白发说再见</td>\n",
              "      <td>到60岁不用去染发，洗发水和它混合洗头，头上一根白发都找不到</td>\n",
              "      <td>agreed</td>\n",
              "    </tr>\n",
              "    <tr>\n",
              "      <th>2</th>\n",
              "      <td>网传海湖新区发生坠楼事件！真相来了...</td>\n",
              "      <td>辟谣丨西宁五四小学门口有男子给两个女孩吃药片？看警方回应！</td>\n",
              "      <td>unrelated</td>\n",
              "    </tr>\n",
              "    <tr>\n",
              "      <th>3</th>\n",
              "      <td>新密某游乐场打死人？造谣者昨日删除视频，现已被警方拘留</td>\n",
              "      <td>河北一网民造谣“警察打死人”，已被拘留！</td>\n",
              "      <td>unrelated</td>\n",
              "    </tr>\n",
              "    <tr>\n",
              "      <th>4</th>\n",
              "      <td>红枣千万不要这样吃，等于慢性自杀，千万要注意！</td>\n",
              "      <td>韭菜和它一起吃，等于慢性自杀，伤肠伤胃甚至食物中毒</td>\n",
              "      <td>unrelated</td>\n",
              "    </tr>\n",
              "    <tr>\n",
              "      <th>...</th>\n",
              "      <td>...</td>\n",
              "      <td>...</td>\n",
              "      <td>...</td>\n",
              "    </tr>\n",
              "    <tr>\n",
              "      <th>7966</th>\n",
              "      <td>猪身上有3个部位的肉，卖多便宜也不吃，别给自己惹出一身病</td>\n",
              "      <td>猪身上3个部位的肉，不管多便宜也别吃，省得给自己惹一身病</td>\n",
              "      <td>agreed</td>\n",
              "    </tr>\n",
              "    <tr>\n",
              "      <th>7967</th>\n",
              "      <td>它被誉为“高血压克星”，早晚来一杯，告别高血压气色棒</td>\n",
              "      <td>高血压的“克星”终于被发现了，每天一杯，血压平稳，胜过降压药</td>\n",
              "      <td>agreed</td>\n",
              "    </tr>\n",
              "    <tr>\n",
              "      <th>7968</th>\n",
              "      <td>新综艺破10亿播放量！与三男友同过520？张翰两字疑表白郑爽</td>\n",
              "      <td>吴昕潘玮柏，我们相爱吧香港版，内地未播片段大公开</td>\n",
              "      <td>unrelated</td>\n",
              "    </tr>\n",
              "    <tr>\n",
              "      <th>7969</th>\n",
              "      <td>一波绿色护眼保护视力壁纸</td>\n",
              "      <td>绿色背景真的能保护视力吗？</td>\n",
              "      <td>unrelated</td>\n",
              "    </tr>\n",
              "    <tr>\n",
              "      <th>7970</th>\n",
              "      <td>一旦牛皮被吹破，中国股市将迎来万点暴击：中信证券 七一二</td>\n",
              "      <td>一旦消息被证实，中国股市再爆惊天丑闻：工商银行 农业银行</td>\n",
              "      <td>agreed</td>\n",
              "    </tr>\n",
              "  </tbody>\n",
              "</table>\n",
              "<p>7971 rows × 3 columns</p>\n",
              "</div>\n",
              "      <button class=\"colab-df-convert\" onclick=\"convertToInteractive('df-26840c89-131f-47cf-aad2-35725fdeafe0')\"\n",
              "              title=\"Convert this dataframe to an interactive table.\"\n",
              "              style=\"display:none;\">\n",
              "        \n",
              "  <svg xmlns=\"http://www.w3.org/2000/svg\" height=\"24px\"viewBox=\"0 0 24 24\"\n",
              "       width=\"24px\">\n",
              "    <path d=\"M0 0h24v24H0V0z\" fill=\"none\"/>\n",
              "    <path d=\"M18.56 5.44l.94 2.06.94-2.06 2.06-.94-2.06-.94-.94-2.06-.94 2.06-2.06.94zm-11 1L8.5 8.5l.94-2.06 2.06-.94-2.06-.94L8.5 2.5l-.94 2.06-2.06.94zm10 10l.94 2.06.94-2.06 2.06-.94-2.06-.94-.94-2.06-.94 2.06-2.06.94z\"/><path d=\"M17.41 7.96l-1.37-1.37c-.4-.4-.92-.59-1.43-.59-.52 0-1.04.2-1.43.59L10.3 9.45l-7.72 7.72c-.78.78-.78 2.05 0 2.83L4 21.41c.39.39.9.59 1.41.59.51 0 1.02-.2 1.41-.59l7.78-7.78 2.81-2.81c.8-.78.8-2.07 0-2.86zM5.41 20L4 18.59l7.72-7.72 1.47 1.35L5.41 20z\"/>\n",
              "  </svg>\n",
              "      </button>\n",
              "      \n",
              "  <style>\n",
              "    .colab-df-container {\n",
              "      display:flex;\n",
              "      flex-wrap:wrap;\n",
              "      gap: 12px;\n",
              "    }\n",
              "\n",
              "    .colab-df-convert {\n",
              "      background-color: #E8F0FE;\n",
              "      border: none;\n",
              "      border-radius: 50%;\n",
              "      cursor: pointer;\n",
              "      display: none;\n",
              "      fill: #1967D2;\n",
              "      height: 32px;\n",
              "      padding: 0 0 0 0;\n",
              "      width: 32px;\n",
              "    }\n",
              "\n",
              "    .colab-df-convert:hover {\n",
              "      background-color: #E2EBFA;\n",
              "      box-shadow: 0px 1px 2px rgba(60, 64, 67, 0.3), 0px 1px 3px 1px rgba(60, 64, 67, 0.15);\n",
              "      fill: #174EA6;\n",
              "    }\n",
              "\n",
              "    [theme=dark] .colab-df-convert {\n",
              "      background-color: #3B4455;\n",
              "      fill: #D2E3FC;\n",
              "    }\n",
              "\n",
              "    [theme=dark] .colab-df-convert:hover {\n",
              "      background-color: #434B5C;\n",
              "      box-shadow: 0px 1px 3px 1px rgba(0, 0, 0, 0.15);\n",
              "      filter: drop-shadow(0px 1px 2px rgba(0, 0, 0, 0.3));\n",
              "      fill: #FFFFFF;\n",
              "    }\n",
              "  </style>\n",
              "\n",
              "      <script>\n",
              "        const buttonEl =\n",
              "          document.querySelector('#df-26840c89-131f-47cf-aad2-35725fdeafe0 button.colab-df-convert');\n",
              "        buttonEl.style.display =\n",
              "          google.colab.kernel.accessAllowed ? 'block' : 'none';\n",
              "\n",
              "        async function convertToInteractive(key) {\n",
              "          const element = document.querySelector('#df-26840c89-131f-47cf-aad2-35725fdeafe0');\n",
              "          const dataTable =\n",
              "            await google.colab.kernel.invokeFunction('convertToInteractive',\n",
              "                                                     [key], {});\n",
              "          if (!dataTable) return;\n",
              "\n",
              "          const docLinkHtml = 'Like what you see? Visit the ' +\n",
              "            '<a target=\"_blank\" href=https://colab.research.google.com/notebooks/data_table.ipynb>data table notebook</a>'\n",
              "            + ' to learn more about interactive tables.';\n",
              "          element.innerHTML = '';\n",
              "          dataTable['output_type'] = 'display_data';\n",
              "          await google.colab.output.renderOutput(dataTable, element);\n",
              "          const docLink = document.createElement('div');\n",
              "          docLink.innerHTML = docLinkHtml;\n",
              "          element.appendChild(docLink);\n",
              "        }\n",
              "      </script>\n",
              "    </div>\n",
              "  </div>\n",
              "  "
            ],
            "text/plain": [
              "                              text_a                          text_b      label\n",
              "0         免费分享生活小技巧 教你用手机免费观看全网VIP视频     打开微信直接观看高清免费电视直播，不仅流畅，还不占内存     agreed\n",
              "1      农村的这种树枝可以抑制白发生长，再也不用染发，和白发说再见  到60岁不用去染发，洗发水和它混合洗头，头上一根白发都找不到     agreed\n",
              "2               网传海湖新区发生坠楼事件！真相来了...   辟谣丨西宁五四小学门口有男子给两个女孩吃药片？看警方回应！  unrelated\n",
              "3        新密某游乐场打死人？造谣者昨日删除视频，现已被警方拘留            河北一网民造谣“警察打死人”，已被拘留！  unrelated\n",
              "4            红枣千万不要这样吃，等于慢性自杀，千万要注意！       韭菜和它一起吃，等于慢性自杀，伤肠伤胃甚至食物中毒  unrelated\n",
              "...                              ...                             ...        ...\n",
              "7966    猪身上有3个部位的肉，卖多便宜也不吃，别给自己惹出一身病    猪身上3个部位的肉，不管多便宜也别吃，省得给自己惹一身病     agreed\n",
              "7967      它被誉为“高血压克星”，早晚来一杯，告别高血压气色棒  高血压的“克星”终于被发现了，每天一杯，血压平稳，胜过降压药     agreed\n",
              "7968  新综艺破10亿播放量！与三男友同过520？张翰两字疑表白郑爽        吴昕潘玮柏，我们相爱吧香港版，内地未播片段大公开  unrelated\n",
              "7969                    一波绿色护眼保护视力壁纸                   绿色背景真的能保护视力吗？  unrelated\n",
              "7970    一旦牛皮被吹破，中国股市将迎来万点暴击：中信证券 七一二    一旦消息被证实，中国股市再爆惊天丑闻：工商银行 农业银行     agreed\n",
              "\n",
              "[7971 rows x 3 columns]"
            ]
          },
          "metadata": {},
          "execution_count": 20
        }
      ]
    },
    {
      "cell_type": "code",
      "metadata": {
        "colab": {
          "base_uri": "https://localhost:8080/",
          "height": 350
        },
        "id": "zRSR27Qnksdf",
        "outputId": "5fe89b76-d296-4253-fc00-5622781f410c"
      },
      "source": [
        "# idempotence, 將處理結果另存成 tsv 供 PyTorch 使用\n",
        "df_train.to_csv(\"/content/drive/MyDrive/nlp/nlp_BERT/train.tsv\", sep=\"\\t\", index=False)\n",
        "#df_train.to_csv(\"train_test.csv\", index=False)\n",
        "\n",
        "print(\"訓練樣本數：\", len(df_train))\n",
        "df_train.head()"
      ],
      "execution_count": 21,
      "outputs": [
        {
          "output_type": "stream",
          "name": "stdout",
          "text": [
            "訓練樣本數： 7971\n"
          ]
        },
        {
          "output_type": "execute_result",
          "data": {
            "text/html": [
              "\n",
              "  <div id=\"df-5b893ae2-f162-4615-be49-0acbded21a7e\">\n",
              "    <div class=\"colab-df-container\">\n",
              "      <div>\n",
              "<style scoped>\n",
              "    .dataframe tbody tr th:only-of-type {\n",
              "        vertical-align: middle;\n",
              "    }\n",
              "\n",
              "    .dataframe tbody tr th {\n",
              "        vertical-align: top;\n",
              "    }\n",
              "\n",
              "    .dataframe thead th {\n",
              "        text-align: right;\n",
              "    }\n",
              "</style>\n",
              "<table border=\"1\" class=\"dataframe\">\n",
              "  <thead>\n",
              "    <tr style=\"text-align: right;\">\n",
              "      <th></th>\n",
              "      <th>text_a</th>\n",
              "      <th>text_b</th>\n",
              "      <th>label</th>\n",
              "    </tr>\n",
              "  </thead>\n",
              "  <tbody>\n",
              "    <tr>\n",
              "      <th>0</th>\n",
              "      <td>免费分享生活小技巧 教你用手机免费观看全网VIP视频</td>\n",
              "      <td>打开微信直接观看高清免费电视直播，不仅流畅，还不占内存</td>\n",
              "      <td>agreed</td>\n",
              "    </tr>\n",
              "    <tr>\n",
              "      <th>1</th>\n",
              "      <td>农村的这种树枝可以抑制白发生长，再也不用染发，和白发说再见</td>\n",
              "      <td>到60岁不用去染发，洗发水和它混合洗头，头上一根白发都找不到</td>\n",
              "      <td>agreed</td>\n",
              "    </tr>\n",
              "    <tr>\n",
              "      <th>2</th>\n",
              "      <td>网传海湖新区发生坠楼事件！真相来了...</td>\n",
              "      <td>辟谣丨西宁五四小学门口有男子给两个女孩吃药片？看警方回应！</td>\n",
              "      <td>unrelated</td>\n",
              "    </tr>\n",
              "    <tr>\n",
              "      <th>3</th>\n",
              "      <td>新密某游乐场打死人？造谣者昨日删除视频，现已被警方拘留</td>\n",
              "      <td>河北一网民造谣“警察打死人”，已被拘留！</td>\n",
              "      <td>unrelated</td>\n",
              "    </tr>\n",
              "    <tr>\n",
              "      <th>4</th>\n",
              "      <td>红枣千万不要这样吃，等于慢性自杀，千万要注意！</td>\n",
              "      <td>韭菜和它一起吃，等于慢性自杀，伤肠伤胃甚至食物中毒</td>\n",
              "      <td>unrelated</td>\n",
              "    </tr>\n",
              "  </tbody>\n",
              "</table>\n",
              "</div>\n",
              "      <button class=\"colab-df-convert\" onclick=\"convertToInteractive('df-5b893ae2-f162-4615-be49-0acbded21a7e')\"\n",
              "              title=\"Convert this dataframe to an interactive table.\"\n",
              "              style=\"display:none;\">\n",
              "        \n",
              "  <svg xmlns=\"http://www.w3.org/2000/svg\" height=\"24px\"viewBox=\"0 0 24 24\"\n",
              "       width=\"24px\">\n",
              "    <path d=\"M0 0h24v24H0V0z\" fill=\"none\"/>\n",
              "    <path d=\"M18.56 5.44l.94 2.06.94-2.06 2.06-.94-2.06-.94-.94-2.06-.94 2.06-2.06.94zm-11 1L8.5 8.5l.94-2.06 2.06-.94-2.06-.94L8.5 2.5l-.94 2.06-2.06.94zm10 10l.94 2.06.94-2.06 2.06-.94-2.06-.94-.94-2.06-.94 2.06-2.06.94z\"/><path d=\"M17.41 7.96l-1.37-1.37c-.4-.4-.92-.59-1.43-.59-.52 0-1.04.2-1.43.59L10.3 9.45l-7.72 7.72c-.78.78-.78 2.05 0 2.83L4 21.41c.39.39.9.59 1.41.59.51 0 1.02-.2 1.41-.59l7.78-7.78 2.81-2.81c.8-.78.8-2.07 0-2.86zM5.41 20L4 18.59l7.72-7.72 1.47 1.35L5.41 20z\"/>\n",
              "  </svg>\n",
              "      </button>\n",
              "      \n",
              "  <style>\n",
              "    .colab-df-container {\n",
              "      display:flex;\n",
              "      flex-wrap:wrap;\n",
              "      gap: 12px;\n",
              "    }\n",
              "\n",
              "    .colab-df-convert {\n",
              "      background-color: #E8F0FE;\n",
              "      border: none;\n",
              "      border-radius: 50%;\n",
              "      cursor: pointer;\n",
              "      display: none;\n",
              "      fill: #1967D2;\n",
              "      height: 32px;\n",
              "      padding: 0 0 0 0;\n",
              "      width: 32px;\n",
              "    }\n",
              "\n",
              "    .colab-df-convert:hover {\n",
              "      background-color: #E2EBFA;\n",
              "      box-shadow: 0px 1px 2px rgba(60, 64, 67, 0.3), 0px 1px 3px 1px rgba(60, 64, 67, 0.15);\n",
              "      fill: #174EA6;\n",
              "    }\n",
              "\n",
              "    [theme=dark] .colab-df-convert {\n",
              "      background-color: #3B4455;\n",
              "      fill: #D2E3FC;\n",
              "    }\n",
              "\n",
              "    [theme=dark] .colab-df-convert:hover {\n",
              "      background-color: #434B5C;\n",
              "      box-shadow: 0px 1px 3px 1px rgba(0, 0, 0, 0.15);\n",
              "      filter: drop-shadow(0px 1px 2px rgba(0, 0, 0, 0.3));\n",
              "      fill: #FFFFFF;\n",
              "    }\n",
              "  </style>\n",
              "\n",
              "      <script>\n",
              "        const buttonEl =\n",
              "          document.querySelector('#df-5b893ae2-f162-4615-be49-0acbded21a7e button.colab-df-convert');\n",
              "        buttonEl.style.display =\n",
              "          google.colab.kernel.accessAllowed ? 'block' : 'none';\n",
              "\n",
              "        async function convertToInteractive(key) {\n",
              "          const element = document.querySelector('#df-5b893ae2-f162-4615-be49-0acbded21a7e');\n",
              "          const dataTable =\n",
              "            await google.colab.kernel.invokeFunction('convertToInteractive',\n",
              "                                                     [key], {});\n",
              "          if (!dataTable) return;\n",
              "\n",
              "          const docLinkHtml = 'Like what you see? Visit the ' +\n",
              "            '<a target=\"_blank\" href=https://colab.research.google.com/notebooks/data_table.ipynb>data table notebook</a>'\n",
              "            + ' to learn more about interactive tables.';\n",
              "          element.innerHTML = '';\n",
              "          dataTable['output_type'] = 'display_data';\n",
              "          await google.colab.output.renderOutput(dataTable, element);\n",
              "          const docLink = document.createElement('div');\n",
              "          docLink.innerHTML = docLinkHtml;\n",
              "          element.appendChild(docLink);\n",
              "        }\n",
              "      </script>\n",
              "    </div>\n",
              "  </div>\n",
              "  "
            ],
            "text/plain": [
              "                          text_a                          text_b      label\n",
              "0     免费分享生活小技巧 教你用手机免费观看全网VIP视频     打开微信直接观看高清免费电视直播，不仅流畅，还不占内存     agreed\n",
              "1  农村的这种树枝可以抑制白发生长，再也不用染发，和白发说再见  到60岁不用去染发，洗发水和它混合洗头，头上一根白发都找不到     agreed\n",
              "2           网传海湖新区发生坠楼事件！真相来了...   辟谣丨西宁五四小学门口有男子给两个女孩吃药片？看警方回应！  unrelated\n",
              "3    新密某游乐场打死人？造谣者昨日删除视频，现已被警方拘留            河北一网民造谣“警察打死人”，已被拘留！  unrelated\n",
              "4        红枣千万不要这样吃，等于慢性自杀，千万要注意！       韭菜和它一起吃，等于慢性自杀，伤肠伤胃甚至食物中毒  unrelated"
            ]
          },
          "metadata": {},
          "execution_count": 21
        }
      ]
    },
    {
      "cell_type": "code",
      "metadata": {
        "colab": {
          "base_uri": "https://localhost:8080/"
        },
        "id": "clazIOXokvIi",
        "outputId": "17e30607-b742-401b-8562-1eb5b622f6e8"
      },
      "source": [
        "!pip install torch"
      ],
      "execution_count": 22,
      "outputs": [
        {
          "output_type": "stream",
          "name": "stdout",
          "text": [
            "Requirement already satisfied: torch in /usr/local/lib/python3.7/dist-packages (1.10.0+cu111)\n",
            "Requirement already satisfied: typing-extensions in /usr/local/lib/python3.7/dist-packages (from torch) (3.10.0.2)\n"
          ]
        }
      ]
    },
    {
      "cell_type": "code",
      "metadata": {
        "id": "YAkjq1BtpuKg"
      },
      "source": [
        "!pip install transformers tqdm boto3 requests regex -q"
      ],
      "execution_count": 23,
      "outputs": []
    },
    {
      "cell_type": "code",
      "metadata": {
        "colab": {
          "base_uri": "https://localhost:8080/"
        },
        "id": "Y4jDz25rqNPk",
        "outputId": "f0cb399d-b3c0-4c9a-cf80-5c8c549a3471"
      },
      "source": [
        "import torch\n",
        "from transformers import BertTokenizer\n",
        "from IPython.display import clear_output\n",
        "\n",
        "PRETRAINED_MODEL_NAME = \"bert-base-chinese\"  # 指定繁簡中文 BERT-BASE 預訓練模型\n",
        "\n",
        "# 取得此預訓練模型所使用的 tokenizer\n",
        "tokenizer = BertTokenizer.from_pretrained(PRETRAINED_MODEL_NAME)\n",
        "\n",
        "clear_output()\n",
        "print(\"PyTorch 版本：\", torch.__version__)"
      ],
      "execution_count": 24,
      "outputs": [
        {
          "output_type": "stream",
          "name": "stdout",
          "text": [
            "PyTorch 版本： 1.10.0+cu111\n"
          ]
        }
      ]
    },
    {
      "cell_type": "markdown",
      "metadata": {
        "id": "AUo19ouzG7H2"
      },
      "source": [
        "# 將原始文本轉換成 BERT 相容的輸入格式"
      ]
    },
    {
      "cell_type": "code",
      "metadata": {
        "id": "2LkolYnLkyun"
      },
      "source": [
        "from torch.utils.data import Dataset\n",
        " \n",
        "    \n",
        "class FakeNewsDataset(Dataset):\n",
        "    # 讀取前處理後的 tsv 檔並初始化一些參數\n",
        "    def __init__(self, mode, tokenizer):\n",
        "        assert mode in [\"train\", \"test\"]  # 一般訓練你會需要 dev set\n",
        "        self.mode = mode\n",
        "        # 大數據你會需要用 iterator=True\n",
        "        self.df = pd.read_csv(\"/content/drive/MyDrive/nlp/nlp_BERT/\"+mode + \".tsv\", sep=\"\\t\").fillna(\"\")\n",
        "        self.len = len(self.df)\n",
        "        self.label_map = {'agreed': 0, 'disagreed': 1, 'unrelated': 2}\n",
        "        self.tokenizer = tokenizer  # 我們將使用 BERT tokenizer\n",
        "    \n",
        "    # 定義回傳一筆訓練 / 測試數據的函式\n",
        "    def __getitem__(self, idx):\n",
        "        if self.mode == \"test\":\n",
        "            text_a, text_b = self.df.iloc[idx, :2].values\n",
        "            label_tensor = None\n",
        "        else:\n",
        "            text_a, text_b, label = self.df.iloc[idx, :].values\n",
        "            # 將 label 文字也轉換成索引方便轉換成 tensor\n",
        "            label_id = self.label_map[label]\n",
        "            label_tensor = torch.tensor(label_id)\n",
        "            \n",
        "        # 建立第一個句子的 BERT tokens 並加入分隔符號 [SEP]\n",
        "        word_pieces = [\"[CLS]\"]\n",
        "        tokens_a = self.tokenizer.tokenize(text_a)\n",
        "        word_pieces += tokens_a + [\"[SEP]\"]\n",
        "        len_a = len(word_pieces)\n",
        "        \n",
        "        # 第二個句子的 BERT tokens\n",
        "        tokens_b = self.tokenizer.tokenize(text_b)\n",
        "        word_pieces += tokens_b + [\"[SEP]\"]\n",
        "        len_b = len(word_pieces) - len_a\n",
        "        \n",
        "        # 將整個 token 序列轉換成索引序列\n",
        "        ids = self.tokenizer.convert_tokens_to_ids(word_pieces)\n",
        "        tokens_tensor = torch.tensor(ids)\n",
        "        \n",
        "        # 將第一句包含 [SEP] 的 token 位置設為 0，其他為 1 表示第二句\n",
        "        segments_tensor = torch.tensor([0] * len_a + [1] * len_b, \n",
        "                                        dtype=torch.long)\n",
        "        \n",
        "        return (tokens_tensor, segments_tensor, label_tensor)\n",
        "    \n",
        "    def __len__(self):\n",
        "        return self.len\n",
        "    \n",
        "    \n",
        "# 初始化一個專門讀取訓練樣本的 Dataset，使用中文 BERT 斷詞\n",
        "trainset = FakeNewsDataset(\"train\", tokenizer=tokenizer)"
      ],
      "execution_count": 25,
      "outputs": []
    },
    {
      "cell_type": "code",
      "metadata": {
        "colab": {
          "base_uri": "https://localhost:8080/"
        },
        "id": "t-QcxvvnrNnW",
        "outputId": "45bfd303-e05c-4620-b96c-989e58cd1ec9"
      },
      "source": [
        "# 選擇第一個樣本\n",
        "sample_idx = 0\n",
        "\n",
        "# 將原始文本拿出做比較\n",
        "text_a, text_b, label = trainset.df.iloc[sample_idx].values\n",
        "\n",
        "# 利用剛剛建立的 Dataset 取出轉換後的 id tensors\n",
        "tokens_tensor, segments_tensor, label_tensor = trainset[sample_idx]\n",
        "\n",
        "# 將 tokens_tensor 還原成文本\n",
        "tokens = tokenizer.convert_ids_to_tokens(tokens_tensor.tolist())\n",
        "combined_text = \"\".join(tokens)\n",
        "\n",
        "# 渲染前後差異，毫無反應就是個 print。可以直接看輸出結果\n",
        "print(f\"\"\"[原始文本]\n",
        "句子 1：{text_a}\n",
        "句子 2：{text_b}\n",
        "分類  ：{label}\n",
        "\n",
        "--------------------\n",
        "\n",
        "[Dataset 回傳的 tensors]\n",
        "tokens_tensor  ：{tokens_tensor}\n",
        "\n",
        "segments_tensor：{segments_tensor}\n",
        "\n",
        "label_tensor   ：{label_tensor}\n",
        "\n",
        "--------------------\n",
        "\n",
        "[還原 tokens_tensors]\n",
        "{combined_text}\n",
        "\"\"\")"
      ],
      "execution_count": 26,
      "outputs": [
        {
          "output_type": "stream",
          "name": "stdout",
          "text": [
            "[原始文本]\n",
            "句子 1：免费分享生活小技巧 教你用手机免费观看全网VIP视频\n",
            "句子 2：打开微信直接观看高清免费电视直播，不仅流畅，还不占内存\n",
            "分類  ：agreed\n",
            "\n",
            "--------------------\n",
            "\n",
            "[Dataset 回傳的 tensors]\n",
            "tokens_tensor  ：tensor([ 101, 1048, 6589, 1146,  775, 4495, 3833, 2207, 2825, 2341, 3136,  872,\n",
            "        4500, 2797, 3322, 1048, 6589, 6225, 4692, 1059, 5381,  100, 6228, 7574,\n",
            "         102, 2802, 2458, 2544,  928, 4684, 2970, 6225, 4692, 7770, 3926, 1048,\n",
            "        6589, 4510, 6228, 4684, 3064, 8024,  679,  788, 3837, 4517, 8024, 6820,\n",
            "         679, 1304, 1079, 2100,  102])\n",
            "\n",
            "segments_tensor：tensor([0, 0, 0, 0, 0, 0, 0, 0, 0, 0, 0, 0, 0, 0, 0, 0, 0, 0, 0, 0, 0, 0, 0, 0,\n",
            "        0, 1, 1, 1, 1, 1, 1, 1, 1, 1, 1, 1, 1, 1, 1, 1, 1, 1, 1, 1, 1, 1, 1, 1,\n",
            "        1, 1, 1, 1, 1])\n",
            "\n",
            "label_tensor   ：0\n",
            "\n",
            "--------------------\n",
            "\n",
            "[還原 tokens_tensors]\n",
            "[CLS]免费分享生活小技巧教你用手机免费观看全网[UNK]视频[SEP]打开微信直接观看高清免费电视直播，不仅流畅，还不占内存[SEP]\n",
            "\n"
          ]
        }
      ]
    },
    {
      "cell_type": "code",
      "metadata": {
        "id": "X8qGNSkLrS38"
      },
      "source": [
        "!pip install pysnooper -q"
      ],
      "execution_count": 27,
      "outputs": []
    },
    {
      "cell_type": "code",
      "metadata": {
        "id": "t86vOkQFsPjt"
      },
      "source": [
        "\"\"\"\n",
        "實作可以一次回傳一個 mini-batch 的 DataLoader\n",
        "這個 DataLoader 吃我們上面定義的 `FakeNewsDataset`，\n",
        "回傳訓練 BERT 時會需要的 4 個 tensors：\n",
        "- tokens_tensors  : (batch_size, max_seq_len_in_batch)\n",
        "- segments_tensors: (batch_size, max_seq_len_in_batch)\n",
        "- masks_tensors   : (batch_size, max_seq_len_in_batch)\n",
        "- label_ids       : (batch_size)\n",
        "\"\"\"\n",
        "\n",
        "from torch.utils.data import DataLoader\n",
        "from torch.nn.utils.rnn import pad_sequence\n",
        "\n",
        "# 這個函式的輸入 `samples` 是一個 list，裡頭的每個 element 都是\n",
        "# 剛剛定義的 `FakeNewsDataset` 回傳的一個樣本，每個樣本都包含 3 tensors：\n",
        "# - tokens_tensor\n",
        "# - segments_tensor\n",
        "# - label_tensor\n",
        "# 它會對前兩個 tensors 作 zero padding，並產生前面說明過的 masks_tensors\n",
        "def create_mini_batch(samples):\n",
        "    tokens_tensors = [s[0] for s in samples]\n",
        "    segments_tensors = [s[1] for s in samples]\n",
        "    \n",
        "    # 測試集有 labels\n",
        "    if samples[0][2] is not None:\n",
        "        label_ids = torch.stack([s[2] for s in samples])\n",
        "    else:\n",
        "        label_ids = None\n",
        "    \n",
        "    # zero pad 到同一序列長度\n",
        "    tokens_tensors = pad_sequence(tokens_tensors, \n",
        "                                  batch_first=True)\n",
        "    segments_tensors = pad_sequence(segments_tensors, \n",
        "                                    batch_first=True)\n",
        "    \n",
        "    # attention masks，將 tokens_tensors 裡頭不為 zero padding\n",
        "    # 的位置設為 1 讓 BERT 只關注這些位置的 tokens\n",
        "    masks_tensors = torch.zeros(tokens_tensors.shape, \n",
        "                                dtype=torch.long)\n",
        "    masks_tensors = masks_tensors.masked_fill(\n",
        "        tokens_tensors != 0, 1)\n",
        "    \n",
        "    return tokens_tensors, segments_tensors, masks_tensors, label_ids\n",
        "\n",
        "\n",
        "# 初始化一個每次回傳 64 個訓練樣本的 DataLoader\n",
        "# 利用 `collate_fn` 將 list of samples 合併成一個 mini-batch 是關鍵\n",
        "BATCH_SIZE = 64\n",
        "trainloader = DataLoader(trainset, batch_size=BATCH_SIZE, \n",
        "                         collate_fn=create_mini_batch)"
      ],
      "execution_count": 28,
      "outputs": []
    },
    {
      "cell_type": "code",
      "metadata": {
        "colab": {
          "base_uri": "https://localhost:8080/"
        },
        "id": "jAVxQDHpsSS4",
        "outputId": "d3c44b0d-d8c0-4a49-e427-ba7da008e07a"
      },
      "source": [
        "data = next(iter(trainloader))\n",
        "\n",
        "tokens_tensors, segments_tensors, \\\n",
        "    masks_tensors, label_ids = data\n",
        "\n",
        "print(f\"\"\"\n",
        "tokens_tensors.shape   = {tokens_tensors.shape} \n",
        "{tokens_tensors}\n",
        "------------------------\n",
        "segments_tensors.shape = {segments_tensors.shape}\n",
        "{segments_tensors}\n",
        "------------------------\n",
        "masks_tensors.shape    = {masks_tensors.shape}\n",
        "{masks_tensors}\n",
        "------------------------\n",
        "label_ids.shape        = {label_ids.shape}\n",
        "{label_ids}\n",
        "\"\"\")"
      ],
      "execution_count": 29,
      "outputs": [
        {
          "output_type": "stream",
          "name": "stdout",
          "text": [
            "\n",
            "tokens_tensors.shape   = torch.Size([64, 62]) \n",
            "tensor([[ 101, 1048, 6589,  ...,    0,    0,    0],\n",
            "        [ 101, 1093, 3333,  ..., 1168,  102,    0],\n",
            "        [ 101, 5381,  837,  ...,    0,    0,    0],\n",
            "        ...,\n",
            "        [ 101, 5741, 3362,  ...,    0,    0,    0],\n",
            "        [ 101, 3805, 2336,  ...,    0,    0,    0],\n",
            "        [ 101, 5811, 7440,  ...,    0,    0,    0]])\n",
            "------------------------\n",
            "segments_tensors.shape = torch.Size([64, 62])\n",
            "tensor([[0, 0, 0,  ..., 0, 0, 0],\n",
            "        [0, 0, 0,  ..., 1, 1, 0],\n",
            "        [0, 0, 0,  ..., 0, 0, 0],\n",
            "        ...,\n",
            "        [0, 0, 0,  ..., 0, 0, 0],\n",
            "        [0, 0, 0,  ..., 0, 0, 0],\n",
            "        [0, 0, 0,  ..., 0, 0, 0]])\n",
            "------------------------\n",
            "masks_tensors.shape    = torch.Size([64, 62])\n",
            "tensor([[1, 1, 1,  ..., 0, 0, 0],\n",
            "        [1, 1, 1,  ..., 1, 1, 0],\n",
            "        [1, 1, 1,  ..., 0, 0, 0],\n",
            "        ...,\n",
            "        [1, 1, 1,  ..., 0, 0, 0],\n",
            "        [1, 1, 1,  ..., 0, 0, 0],\n",
            "        [1, 1, 1,  ..., 0, 0, 0]])\n",
            "------------------------\n",
            "label_ids.shape        = torch.Size([64])\n",
            "tensor([0, 0, 2, 2, 2, 2, 0, 2, 0, 2, 2, 2, 2, 2, 2, 2, 2, 2, 0, 2, 0, 2, 2, 0,\n",
            "        0, 2, 0, 2, 0, 0, 2, 2, 2, 2, 2, 2, 2, 2, 2, 2, 2, 2, 0, 2, 2, 2, 2, 2,\n",
            "        2, 2, 2, 0, 2, 2, 2, 2, 2, 0, 2, 2, 2, 0, 2, 2])\n",
            "\n"
          ]
        }
      ]
    },
    {
      "cell_type": "markdown",
      "metadata": {
        "id": "vyvDcbdgHNps"
      },
      "source": [
        "# 在 BERT 之上加入新 layer 成下游任務模型"
      ]
    },
    {
      "cell_type": "code",
      "metadata": {
        "colab": {
          "base_uri": "https://localhost:8080/"
        },
        "id": "XLk15PsHsVsi",
        "outputId": "a3eb2e4f-28f6-40e4-fd20-e5c92d9538c0"
      },
      "source": [
        "# 載入一個可以做中文多分類任務的模型，n_class = 3\n",
        "from transformers import BertForSequenceClassification\n",
        "\n",
        "PRETRAINED_MODEL_NAME = \"bert-base-chinese\"\n",
        "NUM_LABELS = 3\n",
        "\n",
        "model = BertForSequenceClassification.from_pretrained(\n",
        "    PRETRAINED_MODEL_NAME, num_labels=NUM_LABELS)\n",
        "\n",
        "clear_output()\n",
        "\n",
        "# high-level 顯示此模型裡的 modules\n",
        "print(\"\"\"\n",
        "name            module\n",
        "----------------------\"\"\")\n",
        "for name, module in model.named_children():\n",
        "    if name == \"bert\":\n",
        "        for n, _ in module.named_children():\n",
        "            print(f\"{name}:{n}\")\n",
        "    else:\n",
        "        print(\"{:15} {}\".format(name, module))"
      ],
      "execution_count": 30,
      "outputs": [
        {
          "output_type": "stream",
          "name": "stdout",
          "text": [
            "\n",
            "name            module\n",
            "----------------------\n",
            "bert:embeddings\n",
            "bert:encoder\n",
            "bert:pooler\n",
            "dropout         Dropout(p=0.1, inplace=False)\n",
            "classifier      Linear(in_features=768, out_features=3, bias=True)\n"
          ]
        }
      ]
    },
    {
      "cell_type": "code",
      "metadata": {
        "colab": {
          "base_uri": "https://localhost:8080/"
        },
        "id": "R9FCuXNWL4ZI",
        "outputId": "86cf5ef8-8a71-4e67-d0ef-443d55b56064"
      },
      "source": [
        "def get_predictions(model, dataloader, compute_acc=False):\n",
        "    predictions = None\n",
        "    correct = 0\n",
        "    total = 0\n",
        "      \n",
        "    with torch.no_grad():\n",
        "        # 遍巡整個資料集\n",
        "        for data in dataloader:\n",
        "            # 將所有 tensors 移到 GPU 上\n",
        "            if next(model.parameters()).is_cuda:\n",
        "                data = [t.to(\"cuda:0\") for t in data if t is not None]\n",
        "            \n",
        "            \n",
        "            # 別忘記前 3 個 tensors 分別為 tokens, segments 以及 masks\n",
        "            # 且強烈建議在將這些 tensors 丟入 `model` 時指定對應的參數名稱\n",
        "            tokens_tensors, segments_tensors, masks_tensors = data[:3]\n",
        "            outputs = model(input_ids=tokens_tensors, \n",
        "                            token_type_ids=segments_tensors, \n",
        "                            attention_mask=masks_tensors)\n",
        "            \n",
        "            logits = outputs[0]\n",
        "            _, pred = torch.max(logits.data, 1)\n",
        "            \n",
        "            # 用來計算訓練集的分類準確率\n",
        "            if compute_acc:\n",
        "                labels = data[3]\n",
        "                total += labels.size(0)\n",
        "                correct += (pred == labels).sum().item()\n",
        "                \n",
        "            # 將當前 batch 記錄下來\n",
        "            if predictions is None:\n",
        "                predictions = pred\n",
        "            else:\n",
        "                predictions = torch.cat((predictions, pred))\n",
        "    \n",
        "    if compute_acc:\n",
        "        acc = correct / total\n",
        "        return predictions, acc\n",
        "    return predictions\n",
        "    \n",
        "# 讓模型跑在 GPU 上並取得訓練集的分類準確率\n",
        "device = torch.device(\"cuda:0\" if torch.cuda.is_available() else \"cpu\")\n",
        "print(\"device:\", device)\n",
        "model = model.to(device)\n",
        "_, acc = get_predictions(model, trainloader, compute_acc=True)\n",
        "print(\"classification acc:\", acc)"
      ],
      "execution_count": 31,
      "outputs": [
        {
          "output_type": "stream",
          "name": "stdout",
          "text": [
            "device: cuda:0\n",
            "classification acc: 0.4960481746330448\n"
          ]
        }
      ]
    },
    {
      "cell_type": "code",
      "metadata": {
        "colab": {
          "base_uri": "https://localhost:8080/"
        },
        "id": "cyUAgr0GUAML",
        "outputId": "9f8bbc03-b87d-47e6-f0f9-62ab3e9e9802"
      },
      "source": [
        "def get_learnable_params(module):\n",
        "    return [p for p in module.parameters() if p.requires_grad]\n",
        "     \n",
        "model_params = get_learnable_params(model)\n",
        "clf_params = get_learnable_params(model.classifier)\n",
        "\n",
        "print(f\"\"\"\n",
        "整個分類模型的參數量：{sum(p.numel() for p in model_params)}\n",
        "線性分類器的參數量：{sum(p.numel() for p in clf_params)}\n",
        "\"\"\")"
      ],
      "execution_count": 32,
      "outputs": [
        {
          "output_type": "stream",
          "name": "stdout",
          "text": [
            "\n",
            "整個分類模型的參數量：102269955\n",
            "線性分類器的參數量：2307\n",
            "\n"
          ]
        }
      ]
    },
    {
      "cell_type": "markdown",
      "metadata": {
        "id": "NQu2Yif9HWjj"
      },
      "source": [
        "# 訓練該下游任務模型"
      ]
    },
    {
      "cell_type": "code",
      "metadata": {
        "id": "jTzuszB9UIby",
        "colab": {
          "base_uri": "https://localhost:8080/"
        },
        "outputId": "699c5acb-578e-4b33-aaf2-a888f8b6b734"
      },
      "source": [
        "\n",
        "# 訓練模式\n",
        "model.train()\n",
        "\n",
        "# 使用 Adam Optim 更新整個分類模型的參數\n",
        "optimizer = torch.optim.Adam(model.parameters(), lr=1e-5)\n",
        "\n",
        "EPOCHS = 6\n",
        "for epoch in range(EPOCHS):\n",
        "    \n",
        "    running_loss = 0.0\n",
        "    for data in trainloader:\n",
        "        \n",
        "        tokens_tensors, segments_tensors, \\\n",
        "        masks_tensors, labels = [t.to(device) for t in data]\n",
        "\n",
        "        # 將參數梯度歸零\n",
        "        optimizer.zero_grad()\n",
        "        \n",
        "        # forward pass\n",
        "        outputs = model(input_ids=tokens_tensors, \n",
        "                        token_type_ids=segments_tensors, \n",
        "                        attention_mask=masks_tensors, \n",
        "                        labels=labels)\n",
        "\n",
        "        loss = outputs[0]\n",
        "        # backward\n",
        "        loss.backward()\n",
        "        optimizer.step()\n",
        "\n",
        "\n",
        "        # 紀錄當前 batch loss\n",
        "        running_loss += loss.item()\n",
        "        \n",
        "    # 計算分類準確率\n",
        "    _, acc = get_predictions(model, trainloader, compute_acc=True)\n",
        "\n",
        "    print('[epoch %d] loss: %.3f, acc: %.3f' %\n",
        "          (epoch + 1, running_loss, acc))"
      ],
      "execution_count": 33,
      "outputs": [
        {
          "output_type": "stream",
          "name": "stdout",
          "text": [
            "[epoch 1] loss: 66.867, acc: 0.855\n",
            "[epoch 2] loss: 42.441, acc: 0.899\n",
            "[epoch 3] loss: 29.484, acc: 0.931\n",
            "[epoch 4] loss: 23.948, acc: 0.953\n",
            "[epoch 5] loss: 18.962, acc: 0.929\n",
            "[epoch 6] loss: 12.402, acc: 0.974\n"
          ]
        }
      ]
    },
    {
      "cell_type": "markdown",
      "metadata": {
        "id": "kIzi817PHfyu"
      },
      "source": [
        "# 對新樣本做推論"
      ]
    },
    {
      "cell_type": "code",
      "metadata": {
        "id": "KNPAg2HPd82C",
        "colab": {
          "base_uri": "https://localhost:8080/",
          "height": 204
        },
        "outputId": "502eda97-dd7b-473f-b5b3-e0a8341fc0e0"
      },
      "source": [
        "# 建立測試集。這邊我們可以用跟訓練時不同的 batch_size，看你 GPU 多大\n",
        "testset = FakeNewsDataset(\"test\", tokenizer=tokenizer)\n",
        "testloader = DataLoader(testset, batch_size=256, \n",
        "                        collate_fn=create_mini_batch)\n",
        "\n",
        "# 用分類模型預測測試集\n",
        "predictions = get_predictions(model, testloader)\n",
        "\n",
        "# 用來將預測的 label id 轉回 label 文字\n",
        "index_map = {v: k for k, v in testset.label_map.items()}\n",
        "\n",
        "# 生成 Kaggle 繳交檔案\n",
        "df = pd.DataFrame({\"Category\": predictions.tolist()})\n",
        "df['Category'] = df.Category.apply(lambda x: index_map[x])\n",
        "df_pred = pd.concat([testset.df.loc[:, [\"Id\"]], \n",
        "                          df.loc[:, 'Category']], axis=1)\n",
        "df_pred.to_csv('/content/drive/MyDrive/nlp/nlp_BERT/submission.csv', index=False)\n",
        "df_pred.head()"
      ],
      "execution_count": 35,
      "outputs": [
        {
          "output_type": "execute_result",
          "data": {
            "text/html": [
              "\n",
              "  <div id=\"df-b1166492-600b-4eed-bd57-b1bfb7f26ebd\">\n",
              "    <div class=\"colab-df-container\">\n",
              "      <div>\n",
              "<style scoped>\n",
              "    .dataframe tbody tr th:only-of-type {\n",
              "        vertical-align: middle;\n",
              "    }\n",
              "\n",
              "    .dataframe tbody tr th {\n",
              "        vertical-align: top;\n",
              "    }\n",
              "\n",
              "    .dataframe thead th {\n",
              "        text-align: right;\n",
              "    }\n",
              "</style>\n",
              "<table border=\"1\" class=\"dataframe\">\n",
              "  <thead>\n",
              "    <tr style=\"text-align: right;\">\n",
              "      <th></th>\n",
              "      <th>Id</th>\n",
              "      <th>Category</th>\n",
              "    </tr>\n",
              "  </thead>\n",
              "  <tbody>\n",
              "    <tr>\n",
              "      <th>0</th>\n",
              "      <td>321187</td>\n",
              "      <td>unrelated</td>\n",
              "    </tr>\n",
              "    <tr>\n",
              "      <th>1</th>\n",
              "      <td>321190</td>\n",
              "      <td>unrelated</td>\n",
              "    </tr>\n",
              "    <tr>\n",
              "      <th>2</th>\n",
              "      <td>321189</td>\n",
              "      <td>unrelated</td>\n",
              "    </tr>\n",
              "    <tr>\n",
              "      <th>3</th>\n",
              "      <td>321193</td>\n",
              "      <td>unrelated</td>\n",
              "    </tr>\n",
              "    <tr>\n",
              "      <th>4</th>\n",
              "      <td>321191</td>\n",
              "      <td>unrelated</td>\n",
              "    </tr>\n",
              "  </tbody>\n",
              "</table>\n",
              "</div>\n",
              "      <button class=\"colab-df-convert\" onclick=\"convertToInteractive('df-b1166492-600b-4eed-bd57-b1bfb7f26ebd')\"\n",
              "              title=\"Convert this dataframe to an interactive table.\"\n",
              "              style=\"display:none;\">\n",
              "        \n",
              "  <svg xmlns=\"http://www.w3.org/2000/svg\" height=\"24px\"viewBox=\"0 0 24 24\"\n",
              "       width=\"24px\">\n",
              "    <path d=\"M0 0h24v24H0V0z\" fill=\"none\"/>\n",
              "    <path d=\"M18.56 5.44l.94 2.06.94-2.06 2.06-.94-2.06-.94-.94-2.06-.94 2.06-2.06.94zm-11 1L8.5 8.5l.94-2.06 2.06-.94-2.06-.94L8.5 2.5l-.94 2.06-2.06.94zm10 10l.94 2.06.94-2.06 2.06-.94-2.06-.94-.94-2.06-.94 2.06-2.06.94z\"/><path d=\"M17.41 7.96l-1.37-1.37c-.4-.4-.92-.59-1.43-.59-.52 0-1.04.2-1.43.59L10.3 9.45l-7.72 7.72c-.78.78-.78 2.05 0 2.83L4 21.41c.39.39.9.59 1.41.59.51 0 1.02-.2 1.41-.59l7.78-7.78 2.81-2.81c.8-.78.8-2.07 0-2.86zM5.41 20L4 18.59l7.72-7.72 1.47 1.35L5.41 20z\"/>\n",
              "  </svg>\n",
              "      </button>\n",
              "      \n",
              "  <style>\n",
              "    .colab-df-container {\n",
              "      display:flex;\n",
              "      flex-wrap:wrap;\n",
              "      gap: 12px;\n",
              "    }\n",
              "\n",
              "    .colab-df-convert {\n",
              "      background-color: #E8F0FE;\n",
              "      border: none;\n",
              "      border-radius: 50%;\n",
              "      cursor: pointer;\n",
              "      display: none;\n",
              "      fill: #1967D2;\n",
              "      height: 32px;\n",
              "      padding: 0 0 0 0;\n",
              "      width: 32px;\n",
              "    }\n",
              "\n",
              "    .colab-df-convert:hover {\n",
              "      background-color: #E2EBFA;\n",
              "      box-shadow: 0px 1px 2px rgba(60, 64, 67, 0.3), 0px 1px 3px 1px rgba(60, 64, 67, 0.15);\n",
              "      fill: #174EA6;\n",
              "    }\n",
              "\n",
              "    [theme=dark] .colab-df-convert {\n",
              "      background-color: #3B4455;\n",
              "      fill: #D2E3FC;\n",
              "    }\n",
              "\n",
              "    [theme=dark] .colab-df-convert:hover {\n",
              "      background-color: #434B5C;\n",
              "      box-shadow: 0px 1px 3px 1px rgba(0, 0, 0, 0.15);\n",
              "      filter: drop-shadow(0px 1px 2px rgba(0, 0, 0, 0.3));\n",
              "      fill: #FFFFFF;\n",
              "    }\n",
              "  </style>\n",
              "\n",
              "      <script>\n",
              "        const buttonEl =\n",
              "          document.querySelector('#df-b1166492-600b-4eed-bd57-b1bfb7f26ebd button.colab-df-convert');\n",
              "        buttonEl.style.display =\n",
              "          google.colab.kernel.accessAllowed ? 'block' : 'none';\n",
              "\n",
              "        async function convertToInteractive(key) {\n",
              "          const element = document.querySelector('#df-b1166492-600b-4eed-bd57-b1bfb7f26ebd');\n",
              "          const dataTable =\n",
              "            await google.colab.kernel.invokeFunction('convertToInteractive',\n",
              "                                                     [key], {});\n",
              "          if (!dataTable) return;\n",
              "\n",
              "          const docLinkHtml = 'Like what you see? Visit the ' +\n",
              "            '<a target=\"_blank\" href=https://colab.research.google.com/notebooks/data_table.ipynb>data table notebook</a>'\n",
              "            + ' to learn more about interactive tables.';\n",
              "          element.innerHTML = '';\n",
              "          dataTable['output_type'] = 'display_data';\n",
              "          await google.colab.output.renderOutput(dataTable, element);\n",
              "          const docLink = document.createElement('div');\n",
              "          docLink.innerHTML = docLinkHtml;\n",
              "          element.appendChild(docLink);\n",
              "        }\n",
              "      </script>\n",
              "    </div>\n",
              "  </div>\n",
              "  "
            ],
            "text/plain": [
              "       Id   Category\n",
              "0  321187  unrelated\n",
              "1  321190  unrelated\n",
              "2  321189  unrelated\n",
              "3  321193  unrelated\n",
              "4  321191  unrelated"
            ]
          },
          "metadata": {},
          "execution_count": 35
        }
      ]
    }
  ]
}